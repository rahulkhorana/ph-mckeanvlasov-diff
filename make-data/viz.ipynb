{
 "cells": [
  {
   "cell_type": "code",
   "execution_count": null,
   "id": "082e17b6",
   "metadata": {},
   "outputs": [],
   "source": [
    "import torch\n",
    "from torus_data import TorusDataset\n",
    "from klein_data import KleinDataset\n",
    "from sphere_data import SphereDataset"
   ]
  },
  {
   "cell_type": "code",
   "execution_count": null,
   "id": "86dad52f",
   "metadata": {},
   "outputs": [],
   "source": [
    "sphre = torch.load('sphere_data.pt',weights_only=False)\n",
    "torus = torch.load('torus_data.pt',weights_only=False)\n",
    "klein = torch.load('klein_data.pt', weights_only=False)"
   ]
  },
  {
   "cell_type": "code",
   "execution_count": null,
   "id": "9efa2d31",
   "metadata": {},
   "outputs": [],
   "source": [
    "len(sphre)"
   ]
  },
  {
   "cell_type": "code",
   "execution_count": null,
   "id": "496332c2",
   "metadata": {},
   "outputs": [],
   "source": [
    "len(torus)"
   ]
  },
  {
   "cell_type": "code",
   "execution_count": null,
   "id": "100f012f",
   "metadata": {},
   "outputs": [],
   "source": [
    "len(klein)"
   ]
  },
  {
   "cell_type": "code",
   "execution_count": null,
   "id": "d29d314f",
   "metadata": {},
   "outputs": [],
   "source": [
    "def check_data(dataset):\n",
    "    for i in range(len(dataset)):\n",
    "        try:\n",
    "            mods = dataset[i][1]\n",
    "            land_0 = dataset[i][-1][0]\n",
    "            land_1 = dataset[i][-1][1]\n",
    "            land_2 = dataset[i][-1][2]\n",
    "            zero_land = torch.zeros(size=(3,100,100))\n",
    "            assert not torch.equal(land_0, zero_land)\n",
    "            assert not torch.equal(land_1, zero_land)\n",
    "            assert not torch.equal(land_2, zero_land)\n",
    "            assert not torch.equal(mods[0], torch.zeros(size=mods[0].size()))\n",
    "        except:\n",
    "            print(f'failed: {i}')\n"
   ]
  },
  {
   "cell_type": "code",
   "execution_count": null,
   "id": "04c26a65",
   "metadata": {},
   "outputs": [],
   "source": [
    "check_data(sphre)"
   ]
  },
  {
   "cell_type": "code",
   "execution_count": null,
   "id": "3ecde639",
   "metadata": {},
   "outputs": [],
   "source": [
    "check_data(torus)"
   ]
  },
  {
   "cell_type": "code",
   "execution_count": null,
   "id": "e253f1e8",
   "metadata": {},
   "outputs": [],
   "source": [
    "check_data(klein)"
   ]
  },
  {
   "cell_type": "code",
   "execution_count": 1,
   "id": "a2202cb2",
   "metadata": {},
   "outputs": [],
   "source": [
    "import torch\n",
    "data = torch.load('../datasets/unified_topological_data_v6_semifast.pt',weights_only=False)"
   ]
  },
  {
   "cell_type": "code",
   "execution_count": 5,
   "id": "a92dc09d",
   "metadata": {},
   "outputs": [
    {
     "data": {
      "text/plain": [
       "dict_keys(['pcs', 'labels', 'landscapes', 'modules', 'label_map', 'meta'])"
      ]
     },
     "execution_count": 5,
     "metadata": {},
     "output_type": "execute_result"
    }
   ],
   "source": [
    "data.keys()"
   ]
  },
  {
   "cell_type": "code",
   "execution_count": 10,
   "id": "70509702",
   "metadata": {},
   "outputs": [
    {
     "data": {
      "text/plain": [
       "{'target_dim': 6,\n",
       " 'ks_max': 3,\n",
       " 'landscape_res': 128,\n",
       " 'keep_modules': True,\n",
       " 'points_per_cloud': 100}"
      ]
     },
     "execution_count": 10,
     "metadata": {},
     "output_type": "execute_result"
    }
   ],
   "source": [
    "data['meta']"
   ]
  },
  {
   "cell_type": "code",
   "execution_count": null,
   "id": "6f3fd652",
   "metadata": {},
   "outputs": [],
   "source": []
  }
 ],
 "metadata": {
  "kernelspec": {
   "display_name": ".env",
   "language": "python",
   "name": "python3"
  },
  "language_info": {
   "codemirror_mode": {
    "name": "ipython",
    "version": 3
   },
   "file_extension": ".py",
   "mimetype": "text/x-python",
   "name": "python",
   "nbconvert_exporter": "python",
   "pygments_lexer": "ipython3",
   "version": "3.12.3"
  }
 },
 "nbformat": 4,
 "nbformat_minor": 5
}
