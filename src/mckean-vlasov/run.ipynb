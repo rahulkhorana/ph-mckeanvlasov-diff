{
  "cells": [
    {
      "cell_type": "markdown",
      "id": "a4f3c5c5",
      "metadata": {
        "id": "a4f3c5c5"
      },
      "source": [
        "# McKean–Vlasov 3D Diffusion — Colab Runner (GPU + Drive + Private Git)\n",
        "\n",
        "**What this does**\n",
        "1. Mounts Google Drive (datasets in, artifacts out)\n",
        "2. Installs JAX (CUDA), Flax, Optax, Torch (CPU-only for `.pt`)\n",
        "3. Clones your **private** GitHub repo/branch without printing your token\n",
        "4. Runs `main.py` on GPU, saving checkpoints/samples to Drive\n",
        "5. Visualizes latest generated samples (`.npy`) as 3D MPL landscapes\n",
        "\n",
        "**Before you run**\n",
        "- Put your dataset `.pt` in Drive, e.g. `/MyDrive/datasets/unified_topological_data_v6_semifast.pt`"
      ]
    },
    {
      "cell_type": "code",
      "execution_count": null,
      "id": "2c81b926",
      "metadata": {
        "colab": {
          "base_uri": "https://localhost:8080/"
        },
        "id": "2c81b926",
        "outputId": "2bc0507f-fb31-410c-b5b3-b4b6bdfd7159"
      },
      "outputs": [
        {
          "name": "stdout",
          "output_type": "stream",
          "text": [
            "IN_COLAB: True\n",
            "Mounted at /content/drive\n",
            "Fri Aug 22 16:32:06 2025       \n",
            "+-----------------------------------------------------------------------------------------+\n",
            "| NVIDIA-SMI 550.54.15              Driver Version: 550.54.15      CUDA Version: 12.4     |\n",
            "|-----------------------------------------+------------------------+----------------------+\n",
            "| GPU  Name                 Persistence-M | Bus-Id          Disp.A | Volatile Uncorr. ECC |\n",
            "| Fan  Temp   Perf          Pwr:Usage/Cap |           Memory-Usage | GPU-Util  Compute M. |\n",
            "|                                         |                        |               MIG M. |\n",
            "|=========================================+========================+======================|\n",
            "|   0  NVIDIA A100-SXM4-40GB          Off |   00000000:00:04.0 Off |                    0 |\n",
            "| N/A   32C    P0             50W /  400W |       0MiB /  40960MiB |      0%      Default |\n",
            "|                                         |                        |             Disabled |\n",
            "+-----------------------------------------+------------------------+----------------------+\n",
            "                                                                                         \n",
            "+-----------------------------------------------------------------------------------------+\n",
            "| Processes:                                                                              |\n",
            "|  GPU   GI   CI        PID   Type   Process name                              GPU Memory |\n",
            "|        ID   ID                                                               Usage      |\n",
            "|=========================================================================================|\n",
            "|  No running processes found                                                             |\n",
            "+-----------------------------------------------------------------------------------------+\n",
            "\n",
            "JAX devices: [CudaDevice(id=0)]\n",
            "Backend: gpu\n"
          ]
        },
        {
          "name": "stderr",
          "output_type": "stream",
          "text": [
            "/tmp/ipython-input-2785876187.py:23: DeprecationWarning: jax.lib.xla_bridge.get_backend is deprecated; use jax.extend.backend.get_backend.\n",
            "  print(\"Backend:\", jax.lib.xla_bridge.get_backend().platform)\n"
          ]
        }
      ],
      "source": [
        "# Colab / Drive / GPU setup + deps\n",
        "import os, sys, subprocess, json, time, textwrap, glob\n",
        "from pathlib import Path\n",
        "\n",
        "try:\n",
        "    import google.colab  # type: ignore\n",
        "    IN_COLAB = True\n",
        "except Exception:\n",
        "    IN_COLAB = False\n",
        "print(\"IN_COLAB:\", IN_COLAB)\n",
        "\n",
        "if IN_COLAB:\n",
        "    from google.colab import drive  # type: ignore\n",
        "    drive.mount('/content/drive', force_remount=True)\n",
        "    # Show GPU\n",
        "    try:\n",
        "        print(subprocess.check_output([\"nvidia-smi\"], text=True))\n",
        "    except Exception as e:\n",
        "        print(\"No NVIDIA GPU visible:\", e)\n",
        "\n",
        "import jax\n",
        "print(\"JAX devices:\", jax.devices())\n",
        "print(\"Backend:\", jax.lib.xla_bridge.get_backend().platform)"
      ]
    },
    {
      "cell_type": "code",
      "execution_count": null,
      "id": "11c417db",
      "metadata": {
        "colab": {
          "base_uri": "https://localhost:8080/"
        },
        "id": "11c417db",
        "outputId": "627028da-e174-47c4-a86c-841108701cdc"
      },
      "outputs": [
        {
          "name": "stdout",
          "output_type": "stream",
          "text": [
            "CWD: /content/drive/MyDrive/ph-mckeanvlasov-diff/src/mckean-vlasov\n",
            "mckean-vlasov/\n",
            "  .DS_Store\n",
            "  __pycache__/\n",
            "    dataloader.cpython-312.pyc\n",
            "    losses_steps.cpython-312.pyc\n",
            "    losses_steps.py\n",
            "    models.cpython-312.pyc\n",
            "    sampling.cpython-312.pyc\n",
            "  dataloader.py\n",
            "  losses_steps.py\n",
            "  main.py\n",
            "  models.py\n",
            "  run.ipynb\n",
            "  runs/\n",
            "    mv_sde/\n",
            "  sampling.py\n",
            "Found .pt candidates: ['/content/drive/MyDrive/ph-mckeanvlasov-diff/datasets/unified_topological_data_v6_semifast.pt']\n"
          ]
        }
      ],
      "source": [
        "# Point this to the folder in Drive that contains your code:\n",
        "# The folder should have: dataloader.py, models.py, losses_steps.py, sampling.py, main.py, etc.\n",
        "# Example: /content/drive/MyDrive/mckean-vlasov\n",
        "REPO_DIR = Path(\"/content/drive/MyDrive/ph-mckeanvlasov-diff/src/mckean-vlasov\").resolve()\n",
        "\n",
        "assert REPO_DIR.exists(), f\"Repo dir not found: {REPO_DIR}\"\n",
        "os.chdir(REPO_DIR)\n",
        "print(\"CWD:\", Path.cwd())\n",
        "\n",
        "# Quick tree for sanity\n",
        "def tree(path, max_levels=2, prefix=\"\"):\n",
        "    path = Path(path)\n",
        "    print(prefix + path.name + \"/\")\n",
        "    if max_levels <= 0:\n",
        "        return\n",
        "    for p in sorted(path.iterdir()):\n",
        "        if p.is_dir():\n",
        "            tree(p, max_levels-1, prefix + \"  \")\n",
        "        else:\n",
        "            print(prefix + \"  \" + p.name)\n",
        "\n",
        "tree(REPO_DIR, max_levels=2)\n",
        "\n",
        "# Verify required files exist\n",
        "required = [\"dataloader.py\",\"models.py\",\"losses_steps.py\",\"sampling.py\",\"main.py\"]\n",
        "missing = [f for f in required if not (REPO_DIR/f).exists()]\n",
        "assert not missing, f\"Missing files: {missing}\"\n",
        "\n",
        "# Locate dataset .pt (edit if needed)\n",
        "CANDIDATES = glob.glob(\"/content/drive/MyDrive/ph-mckeanvlasov-diff/**/unified_topological_data*.pt\", recursive=True)\n",
        "print(\"Found .pt candidates:\", CANDIDATES[:3])\n",
        "if not CANDIDATES:\n",
        "    print(\">>> If you don't see your dataset, set DATA_PT manually in next cell.\")"
      ]
    },
    {
      "cell_type": "markdown",
      "id": "BQMraSRc0CCh",
      "metadata": {
        "id": "BQMraSRc0CCh"
      },
      "source": [
        "## Env setup"
      ]
    },
    {
      "cell_type": "code",
      "execution_count": null,
      "id": "WpyxtD4TJe6B",
      "metadata": {
        "colab": {
          "base_uri": "https://localhost:8080/"
        },
        "id": "WpyxtD4TJe6B",
        "outputId": "6b78cb2a-e616-4d58-9018-d6569814ca63"
      },
      "outputs": [
        {
          "name": "stdout",
          "output_type": "stream",
          "text": [
            "\u001b[?25l     \u001b[90m━━━━━━━━━━━━━━━━━━━━━━━━━━━━━━━━━━━━━━━━\u001b[0m \u001b[32m0.0/552.2 kB\u001b[0m \u001b[31m?\u001b[0m eta \u001b[36m-:--:--\u001b[0m\r\u001b[2K     \u001b[91m━━━━━━━━━━━━━━━━━━━━━━━━━━━━━━━━━━━\u001b[0m\u001b[91m╸\u001b[0m\u001b[90m━━\u001b[0m \u001b[32m522.2/552.2 kB\u001b[0m \u001b[31m17.2 MB/s\u001b[0m eta \u001b[36m0:00:01\u001b[0m\r\u001b[2K     \u001b[90m━━━━━━━━━━━━━━━━━━━━━━━━━━━━━━━━━━━━━━\u001b[0m \u001b[32m552.2/552.2 kB\u001b[0m \u001b[31m12.3 MB/s\u001b[0m eta \u001b[36m0:00:00\u001b[0m\n",
            "\u001b[?25h  Preparing metadata (setup.py) ... \u001b[?25l\u001b[?25hdone\n",
            "\u001b[2K     \u001b[90m━━━━━━━━━━━━━━━━━━━━━━━━━━━━━━━━━━━━━━\u001b[0m \u001b[32m118.5/118.5 kB\u001b[0m \u001b[31m14.8 MB/s\u001b[0m eta \u001b[36m0:00:00\u001b[0m\n",
            "\u001b[?25h  Preparing metadata (setup.py) ... \u001b[?25l\u001b[?25hdone\n",
            "\u001b[2K   \u001b[90m━━━━━━━━━━━━━━━━━━━━━━━━━━━━━━━━━━━━━━━━\u001b[0m \u001b[32m4.2/4.2 MB\u001b[0m \u001b[31m97.1 MB/s\u001b[0m eta \u001b[36m0:00:00\u001b[0m\n",
            "\u001b[2K   \u001b[90m━━━━━━━━━━━━━━━━━━━━━━━━━━━━━━━━━━━━━━━━\u001b[0m \u001b[32m8.5/8.5 MB\u001b[0m \u001b[31m68.8 MB/s\u001b[0m eta \u001b[36m0:00:00\u001b[0m\n",
            "\u001b[2K   \u001b[90m━━━━━━━━━━━━━━━━━━━━━━━━━━━━━━━━━━━━━━━━\u001b[0m \u001b[32m10.5/10.5 MB\u001b[0m \u001b[31m64.0 MB/s\u001b[0m eta \u001b[36m0:00:00\u001b[0m\n",
            "\u001b[2K   \u001b[90m━━━━━━━━━━━━━━━━━━━━━━━━━━━━━━━━━━━━━━━━\u001b[0m \u001b[32m901.7/901.7 kB\u001b[0m \u001b[31m63.1 MB/s\u001b[0m eta \u001b[36m0:00:00\u001b[0m\n",
            "\u001b[2K   \u001b[90m━━━━━━━━━━━━━━━━━━━━━━━━━━━━━━━━━━━━━━━━\u001b[0m \u001b[32m1.2/1.2 MB\u001b[0m \u001b[31m76.5 MB/s\u001b[0m eta \u001b[36m0:00:00\u001b[0m\n",
            "\u001b[2K   \u001b[90m━━━━━━━━━━━━━━━━━━━━━━━━━━━━━━━━━━━━━━━━\u001b[0m \u001b[32m292.1/292.1 kB\u001b[0m \u001b[31m33.6 MB/s\u001b[0m eta \u001b[36m0:00:00\u001b[0m\n",
            "\u001b[?25h  Building wheel for pykeops (setup.py) ... \u001b[?25l\u001b[?25hdone\n",
            "  Building wheel for keopscore (setup.py) ... \u001b[?25l\u001b[?25hdone\n"
          ]
        }
      ],
      "source": [
        "%pip -q install gudhi==3.11.0 multipers==2.3.2 geomstats==2.8.0 POT==0.9.5"
      ]
    },
    {
      "cell_type": "code",
      "execution_count": null,
      "id": "mgAcPbPBItzZ",
      "metadata": {
        "colab": {
          "base_uri": "https://localhost:8080/"
        },
        "id": "mgAcPbPBItzZ",
        "outputId": "041d92df-bb4b-4b94-d4fa-dc59b20e4f18"
      },
      "outputs": [
        {
          "name": "stdout",
          "output_type": "stream",
          "text": [
            "\u001b[2K     \u001b[90m━━━━━━━━━━━━━━━━━━━━━━━━━━━━━━━━━━━━━━━━\u001b[0m \u001b[32m92.5/92.5 kB\u001b[0m \u001b[31m10.6 MB/s\u001b[0m eta \u001b[36m0:00:00\u001b[0m\n",
            "\u001b[?25h  Preparing metadata (setup.py) ... \u001b[?25l\u001b[?25hdone\n",
            "\u001b[2K     \u001b[90m━━━━━━━━━━━━━━━━━━━━━━━━━━━━━━━━━━━━━━\u001b[0m \u001b[32m100.3/100.3 kB\u001b[0m \u001b[31m11.5 MB/s\u001b[0m eta \u001b[36m0:00:00\u001b[0m\n",
            "\u001b[?25h  Preparing metadata (setup.py) ... \u001b[?25l\u001b[?25hdone\n",
            "  Building wheel for pykeops (setup.py) ... \u001b[?25l\u001b[?25hdone\n",
            "  Building wheel for keopscore (setup.py) ... \u001b[?25l\u001b[?25hdone\n",
            "PyKeOps set to CPU mode.\n",
            "JAX: 0.5.3 | Devices: [CudaDevice(id=0)]\n",
            "Matmul: (2048, 2048)\n",
            "Torch: 2.8.0+cu126 CUDA avail: True\n",
            "NumPy: 2.0.2 Flax: 0.10.6 Optax: 0.2.5\n"
          ]
        }
      ],
      "source": [
        "# Optional: KeOps forced to CPU (avoid NVCC builds on Colab)\n",
        "%pip -q install pykeops==2.2.3\n",
        "import os\n",
        "os.environ[\"KEOPS_VERBOSE\"]=\"0\"\n",
        "os.environ[\"PYKEOPS_FORCE_BUILD\"]=\"1\"\n",
        "os.environ[\"USE_CUDA\"]=\"0\"\n",
        "print(\"PyKeOps set to CPU mode.\")\n",
        "\n",
        "# Sanity check\n",
        "import os\n",
        "os.environ[\"XLA_PYTHON_CLIENT_ALLOCATOR\"]=\"platform\"  # grow-as-needed GPU memory\n",
        "import jax, jax.numpy as jnp, numpy as np, flax, optax, ml_dtypes\n",
        "print(\"JAX:\", jax.__version__, \"| Devices:\", jax.devices())\n",
        "x = jnp.ones((2048,2048))\n",
        "print(\"Matmul:\", (x@x).block_until_ready().shape)\n",
        "import torch\n",
        "print(\"Torch:\", torch.__version__, \"CUDA avail:\", torch.cuda.is_available())\n",
        "print(\"NumPy:\", np.__version__, \"Flax:\", flax.__version__, \"Optax:\", optax.__version__)"
      ]
    },
    {
      "cell_type": "code",
      "execution_count": null,
      "id": "pKPu0XUG8OR-",
      "metadata": {
        "id": "pKPu0XUG8OR-"
      },
      "outputs": [],
      "source": [
        "!export XLA_PYTHON_CLIENT_ALLOCATOR=platform\n",
        "!export XLA_PYTHON_CLIENT_PREALLOCATE=false\n",
        "!export XLA_FLAGS=\"--xla_gpu_autotune_level=2 --xla_gpu_enable_triton=false\""
      ]
    },
    {
      "cell_type": "markdown",
      "id": "96dd91c4",
      "metadata": {
        "id": "96dd91c4"
      },
      "source": [
        "## Repo / Paths\n",
        "Fill in your repo/user/branch and paths. Artifacts will go to Drive under `OUTDIR`."
      ]
    },
    {
      "cell_type": "code",
      "execution_count": 6,
      "id": "bae62e0b",
      "metadata": {
        "colab": {
          "base_uri": "https://localhost:8080/"
        },
        "id": "bae62e0b",
        "outputId": "b080bac7-631d-4be5-ef5f-9e24301812d4"
      },
      "outputs": [
        {
          "name": "stdout",
          "output_type": "stream",
          "text": [
            "Training OUTDIR: /content/drive/MyDrive/ph-mckeanvlasov-diff/src/mckean-vlasov/runs/mv_sde/20250822_163236\n",
            "DATA_PT: /content/drive/MyDrive/ph-mckeanvlasov-diff/datasets/unified_topological_data_v6_semifast.pt\n",
            "Launching:\n",
            " /usr/bin/python3 -u main.py\n",
            "N=1000  vol=(N,H,W,K,C)=(1000, 128, 128, 3, 3)  KS=3  degrees=3  res=128\n",
            "[train] starting…\n",
            "step 00001 | ddpm_loss=11403.67871 | energy_loss=0.70905\n",
            "step 00020 | ddpm_loss=3.20594 | energy_loss=0.68909\n",
            "step 00040 | ddpm_loss=1.75149 | energy_loss=0.73275\n",
            "step 00060 | ddpm_loss=0.60090 | energy_loss=0.57357\n",
            "step 00080 | ddpm_loss=0.51832 | energy_loss=0.59757\n",
            "step 00100 | ddpm_loss=0.38117 | energy_loss=0.58018\n",
            "step 00120 | ddpm_loss=0.66943 | energy_loss=0.48105\n",
            "step 00140 | ddpm_loss=0.53649 | energy_loss=0.39950\n",
            "step 00160 | ddpm_loss=0.21116 | energy_loss=0.49102\n",
            "step 00180 | ddpm_loss=0.33697 | energy_loss=0.49278\n",
            "step 00200 | ddpm_loss=0.54000 | energy_loss=0.49622\n",
            "step 00220 | ddpm_loss=0.27085 | energy_loss=0.55912\n",
            "step 00240 | ddpm_loss=0.16502 | energy_loss=0.41756\n",
            "step 00260 | ddpm_loss=0.10894 | energy_loss=0.53927\n",
            "step 00280 | ddpm_loss=0.21127 | energy_loss=0.56353\n",
            "step 00300 | ddpm_loss=0.11945 | energy_loss=0.56977\n",
            "step 00320 | ddpm_loss=0.13389 | energy_loss=0.57156\n",
            "step 00340 | ddpm_loss=0.16086 | energy_loss=0.42649\n",
            "step 00360 | ddpm_loss=0.10715 | energy_loss=0.46287\n",
            "step 00380 | ddpm_loss=0.27598 | energy_loss=0.43863\n",
            "step 00400 | ddpm_loss=0.14352 | energy_loss=0.36669\n",
            "step 00420 | ddpm_loss=0.10780 | energy_loss=0.26494\n",
            "step 00440 | ddpm_loss=0.06052 | energy_loss=0.29132\n",
            "step 00460 | ddpm_loss=0.10260 | energy_loss=0.59205\n",
            "step 00480 | ddpm_loss=0.10355 | energy_loss=0.43575\n",
            "step 00500 | ddpm_loss=0.08713 | energy_loss=0.44426\n",
            "step 00520 | ddpm_loss=0.08722 | energy_loss=0.43754\n",
            "step 00540 | ddpm_loss=0.17023 | energy_loss=0.39654\n",
            "step 00560 | ddpm_loss=0.11091 | energy_loss=0.50811\n",
            "step 00580 | ddpm_loss=0.14137 | energy_loss=0.26091\n",
            "step 00600 | ddpm_loss=0.10763 | energy_loss=0.52105\n",
            "step 00620 | ddpm_loss=0.07659 | energy_loss=0.27901\n",
            "step 00640 | ddpm_loss=0.07316 | energy_loss=0.47519\n",
            "step 00660 | ddpm_loss=0.05101 | energy_loss=0.66559\n",
            "step 00680 | ddpm_loss=0.22774 | energy_loss=0.37611\n",
            "step 00700 | ddpm_loss=0.11010 | energy_loss=0.55819\n",
            "step 00720 | ddpm_loss=0.07041 | energy_loss=0.62697\n",
            "step 00740 | ddpm_loss=0.13308 | energy_loss=0.69111\n",
            "step 00760 | ddpm_loss=0.07307 | energy_loss=0.68655\n",
            "step 00780 | ddpm_loss=0.10499 | energy_loss=1.08867\n",
            "step 00800 | ddpm_loss=0.09574 | energy_loss=0.69315\n",
            "step 00820 | ddpm_loss=0.05810 | energy_loss=0.69315\n",
            "step 00840 | ddpm_loss=0.05971 | energy_loss=0.69315\n",
            "step 00860 | ddpm_loss=0.08528 | energy_loss=0.69315\n",
            "step 00880 | ddpm_loss=0.14643 | energy_loss=0.69315\n",
            "step 00900 | ddpm_loss=0.26454 | energy_loss=0.69315\n",
            "step 00920 | ddpm_loss=0.06207 | energy_loss=0.69315\n",
            "step 00940 | ddpm_loss=0.05463 | energy_loss=0.69315\n",
            "step 00960 | ddpm_loss=0.02673 | energy_loss=0.69315\n",
            "step 00980 | ddpm_loss=0.05158 | energy_loss=0.69315\n",
            "step 01000 | ddpm_loss=0.16309 | energy_loss=0.69315\n",
            "step 01020 | ddpm_loss=0.09828 | energy_loss=0.69315\n",
            "step 01040 | ddpm_loss=0.03934 | energy_loss=0.69315\n",
            "step 01060 | ddpm_loss=0.04250 | energy_loss=0.69315\n",
            "step 01080 | ddpm_loss=0.04506 | energy_loss=0.69315\n",
            "step 01100 | ddpm_loss=0.04373 | energy_loss=0.69315\n",
            "step 01120 | ddpm_loss=0.19166 | energy_loss=0.69315\n",
            "step 01140 | ddpm_loss=0.02220 | energy_loss=0.69315\n",
            "step 01160 | ddpm_loss=0.03170 | energy_loss=0.69315\n",
            "step 01180 | ddpm_loss=0.05165 | energy_loss=0.69315\n",
            "step 01200 | ddpm_loss=0.04010 | energy_loss=0.69315\n",
            "step 01220 | ddpm_loss=0.09446 | energy_loss=0.69315\n",
            "step 01240 | ddpm_loss=0.05789 | energy_loss=0.69315\n",
            "step 01260 | ddpm_loss=0.02915 | energy_loss=0.69315\n",
            "step 01280 | ddpm_loss=0.03464 | energy_loss=0.69315\n",
            "step 01300 | ddpm_loss=0.06433 | energy_loss=0.69315\n",
            "step 01320 | ddpm_loss=0.04044 | energy_loss=0.69315\n",
            "step 01340 | ddpm_loss=0.03454 | energy_loss=0.69315\n",
            "step 01360 | ddpm_loss=0.04268 | energy_loss=0.69315\n",
            "step 01380 | ddpm_loss=0.02998 | energy_loss=0.69315\n",
            "step 01400 | ddpm_loss=0.02839 | energy_loss=0.69315\n",
            "step 01420 | ddpm_loss=0.03779 | energy_loss=0.69315\n",
            "step 01440 | ddpm_loss=0.04681 | energy_loss=0.69315\n",
            "step 01460 | ddpm_loss=0.02994 | energy_loss=0.69315\n",
            "step 01480 | ddpm_loss=0.05468 | energy_loss=0.69315\n",
            "step 01500 | ddpm_loss=0.03102 | energy_loss=0.69315\n",
            "step 01520 | ddpm_loss=0.03436 | energy_loss=0.69315\n",
            "step 01540 | ddpm_loss=0.02270 | energy_loss=0.69315\n",
            "step 01560 | ddpm_loss=0.05153 | energy_loss=0.69315\n",
            "step 01580 | ddpm_loss=0.02714 | energy_loss=0.69315\n",
            "step 01600 | ddpm_loss=0.03479 | energy_loss=0.69315\n",
            "step 01620 | ddpm_loss=0.06908 | energy_loss=0.69315\n",
            "step 01640 | ddpm_loss=0.03345 | energy_loss=0.69315\n",
            "step 01660 | ddpm_loss=0.03865 | energy_loss=0.69315\n",
            "step 01680 | ddpm_loss=0.04635 | energy_loss=0.69315\n",
            "step 01700 | ddpm_loss=0.02243 | energy_loss=0.69315\n",
            "step 01720 | ddpm_loss=0.03339 | energy_loss=0.69315\n",
            "step 01740 | ddpm_loss=0.03116 | energy_loss=0.69315\n",
            "step 01760 | ddpm_loss=0.08501 | energy_loss=0.69315\n",
            "step 01780 | ddpm_loss=0.08058 | energy_loss=0.69315\n",
            "step 01800 | ddpm_loss=0.02429 | energy_loss=0.69315\n",
            "step 01820 | ddpm_loss=0.03295 | energy_loss=0.69315\n",
            "step 01840 | ddpm_loss=0.03469 | energy_loss=0.69315\n",
            "step 01860 | ddpm_loss=0.12821 | energy_loss=0.69315\n",
            "step 01880 | ddpm_loss=0.05340 | energy_loss=0.69315\n",
            "step 01900 | ddpm_loss=0.05020 | energy_loss=0.69315\n",
            "step 01920 | ddpm_loss=0.03703 | energy_loss=0.69315\n",
            "step 01940 | ddpm_loss=0.03230 | energy_loss=0.69315\n",
            "step 01960 | ddpm_loss=0.01453 | energy_loss=0.69315\n",
            "step 01980 | ddpm_loss=0.02415 | energy_loss=0.69315\n",
            "step 02000 | ddpm_loss=0.01904 | energy_loss=0.69315\n",
            "[sample] preparing validation cond…\n",
            "[sample] sampler=mv_sde  steps=200 cfg_scale=0.0  prob_flow_ode=False  mf=(rbf,0.05,0.5,3)  bridge_scale=1.0\n",
            "[done] saved: runs/mv_sde/20250822_163247/samples_landscapes.npz\n",
            "[done] labels shape=(16,)  cond shape=(16, 264)\n",
            "\n",
            "Training exit code: 0\n",
            "Done.\n"
          ]
        }
      ],
      "source": [
        "import shlex, datetime\n",
        "\n",
        "# === Set paths/args ===\n",
        "# If the auto search in previous cell didn’t find your dataset, set it explicitly here:\n",
        "DATA_PT = CANDIDATES[0] if len(CANDIDATES) else \"/content/drive/MyDrive/ph-mckeanvlasov-diff/datasets/unified_topological_data_v6_semifast.pt\"\n",
        "\n",
        "# Choose an output folder on Drive\n",
        "stamp = datetime.datetime.now().strftime(\"%Y%m%d_%H%M%S\")\n",
        "OUTDIR = Path(\"/content/drive/MyDrive/ph-mckeanvlasov-diff/src/mckean-vlasov/runs/mv_sde\") / stamp\n",
        "OUTDIR.mkdir(parents=True, exist_ok=True)\n",
        "\n",
        "# Training args — tune as you like\n",
        "args = {}\n",
        "\n",
        "# Pretty print\n",
        "print(\"Training OUTDIR:\", OUTDIR)\n",
        "print(\"DATA_PT:\", DATA_PT)\n",
        "\n",
        "# Build argv\n",
        "argv = [sys.executable, \"-u\", \"main.py\"]\n",
        "for k, v in args.items():\n",
        "    if v == \"\":                       # boolean flags\n",
        "        argv.append(k)\n",
        "    else:\n",
        "        argv.extend([k, v])\n",
        "\n",
        "print('Launching:\\n', ' '.join(shlex.quote(a) for a in argv))\n",
        "\n",
        "# Stream logs live\n",
        "proc = subprocess.Popen(argv, stdout=subprocess.PIPE, stderr=subprocess.STDOUT, text=True)\n",
        "try:\n",
        "    for line in proc.stdout:\n",
        "        print(line, end=\"\")\n",
        "finally:\n",
        "    ret = proc.wait()\n",
        "    print(\"\\nTraining exit code:\", ret)\n",
        "    if ret != 0:\n",
        "        raise SystemExit(ret)\n",
        "print(\"Done.\")"
      ]
    },
    {
      "cell_type": "code",
      "execution_count": 6,
      "id": "6kMAF25cKe-T",
      "metadata": {
        "id": "6kMAF25cKe-T"
      },
      "outputs": [],
      "source": []
    }
  ],
  "metadata": {
    "accelerator": "GPU",
    "colab": {
      "gpuType": "A100",
      "machine_shape": "hm",
      "provenance": []
    },
    "kernelspec": {
      "display_name": "Python 3",
      "name": "python3"
    },
    "language_info": {
      "name": "python"
    }
  },
  "nbformat": 4,
  "nbformat_minor": 5
}
